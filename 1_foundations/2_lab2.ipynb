{
 "cells": [
  {
   "cell_type": "markdown",
   "metadata": {},
   "source": [
    "## Welcome to the Second Lab - Week 1, Day 3\n",
    "\n",
    "Today we will work with lots of models! This is a way to get comfortable with APIs."
   ]
  },
  {
   "cell_type": "markdown",
   "metadata": {},
   "source": [
    "<table style=\"margin: 0; text-align: left; width:100%\">\n",
    "    <tr>\n",
    "        <td style=\"width: 150px; height: 150px; vertical-align: middle;\">\n",
    "            <img src=\"../assets/stop.png\" width=\"150\" height=\"150\" style=\"display: block;\" />\n",
    "        </td>\n",
    "        <td>\n",
    "            <h2 style=\"color:#ff7800;\">Important point - please read</h2>\n",
    "            <span style=\"color:#ff7800;\">The way I collaborate with you may be different to other courses you've taken. I prefer not to type code while you watch. Rather, I execute Jupyter Labs, like this, and give you an intuition for what's going on. My suggestion is that you carefully execute this yourself, <b>after</b> watching the lecture. Add print statements to understand what's going on, and then come up with your own variations.<br/><br/>If you have time, I'd love it if you submit a PR for changes in the community_contributions folder - instructions in the resources. Also, if you have a Github account, use this to showcase your variations. Not only is this essential practice, but it demonstrates your skills to others, including perhaps future clients or employers...\n",
    "            </span>\n",
    "        </td>\n",
    "    </tr>\n",
    "</table>"
   ]
  },
  {
   "cell_type": "code",
   "execution_count": 4,
   "metadata": {},
   "outputs": [],
   "source": [
    "# Start with imports - ask ChatGPT to explain any package that you don't know\n",
    "\n",
    "import os\n",
    "import json\n",
    "from dotenv import load_dotenv\n",
    "from openai import OpenAI\n",
    "from anthropic import Anthropic\n",
    "from IPython.display import Markdown, display"
   ]
  },
  {
   "cell_type": "code",
   "execution_count": 5,
   "metadata": {},
   "outputs": [
    {
     "data": {
      "text/plain": [
       "True"
      ]
     },
     "execution_count": 5,
     "metadata": {},
     "output_type": "execute_result"
    }
   ],
   "source": [
    "# Always remember to do this!\n",
    "load_dotenv(override=True)"
   ]
  },
  {
   "cell_type": "code",
   "execution_count": 13,
   "metadata": {},
   "outputs": [
    {
     "name": "stdout",
     "output_type": "stream",
     "text": [
      "OpenAI API Key exists and begins sk-PHNV3\n",
      "Anthropic API Key exists and begins sk-ant-\n",
      "Google API Key exists and begins AI\n",
      "DeepSeek API Key not set (and this is optional)\n",
      "Groq API Key not set (and this is optional)\n"
     ]
    }
   ],
   "source": [
    "# Print the key prefixes to help with any debugging\n",
    "\n",
    "openai_api_key = os.getenv('OPENAI_API_KEY')\n",
    "anthropic_api_key = os.getenv('ANTHROPIC_API_KEY')\n",
    "google_api_key = os.getenv('GOOGLE_API_KEY')\n",
    "deepseek_api_key = os.getenv('DEEPSEEK_API_KEY')\n",
    "groq_api_key = os.getenv('GROQ_API_KEY')\n",
    "base_url = os.getenv('BASE_URL')\n",
    "\n",
    "if openai_api_key:\n",
    "    print(f\"OpenAI API Key exists and begins {openai_api_key[:8]}\")\n",
    "else:\n",
    "    print(\"OpenAI API Key not set\")\n",
    "    \n",
    "if anthropic_api_key:\n",
    "    print(f\"Anthropic API Key exists and begins {anthropic_api_key[:7]}\")\n",
    "else:\n",
    "    print(\"Anthropic API Key not set (and this is optional)\")\n",
    "\n",
    "if google_api_key:\n",
    "    print(f\"Google API Key exists and begins {google_api_key[:2]}\")\n",
    "else:\n",
    "    print(\"Google API Key not set (and this is optional)\")\n",
    "\n",
    "if deepseek_api_key:\n",
    "    print(f\"DeepSeek API Key exists and begins {deepseek_api_key[:3]}\")\n",
    "else:\n",
    "    print(\"DeepSeek API Key not set (and this is optional)\")\n",
    "\n",
    "if groq_api_key:\n",
    "    print(f\"Groq API Key exists and begins {groq_api_key[:4]}\")\n",
    "else:\n",
    "    print(\"Groq API Key not set (and this is optional)\")"
   ]
  },
  {
   "cell_type": "code",
   "execution_count": 7,
   "metadata": {},
   "outputs": [],
   "source": [
    "request = \"Please come up with a challenging, nuanced question that I can ask a number of LLMs to evaluate their intelligence. \"\n",
    "request += \"Answer only with the question, no explanation.\"\n",
    "messages = [{\"role\": \"user\", \"content\": request}]"
   ]
  },
  {
   "cell_type": "code",
   "execution_count": 10,
   "metadata": {},
   "outputs": [
    {
     "data": {
      "text/plain": [
       "[{'role': 'user',\n",
       "  'content': 'Please come up with a challenging, nuanced question that I can ask a number of LLMs to evaluate their intelligence. Answer only with the question, no explanation.'}]"
      ]
     },
     "execution_count": 10,
     "metadata": {},
     "output_type": "execute_result"
    }
   ],
   "source": [
    "messages"
   ]
  },
  {
   "cell_type": "code",
   "execution_count": 14,
   "metadata": {},
   "outputs": [
    {
     "name": "stdout",
     "output_type": "stream",
     "text": [
      "If you could redesign one fundamental aspect of human communication to enhance understanding and empathy among people, what would you change and why?\n"
     ]
    }
   ],
   "source": [
    "openai = OpenAI(base_url=base_url)\n",
    "response = openai.chat.completions.create(\n",
    "    model=\"gpt-4o-mini\",\n",
    "    messages=messages,\n",
    ")\n",
    "question = response.choices[0].message.content\n",
    "print(question)\n"
   ]
  },
  {
   "cell_type": "code",
   "execution_count": 15,
   "metadata": {},
   "outputs": [],
   "source": [
    "competitors = []\n",
    "answers = []\n",
    "messages = [{\"role\": \"user\", \"content\": question}]"
   ]
  },
  {
   "cell_type": "code",
   "execution_count": 16,
   "metadata": {},
   "outputs": [
    {
     "data": {
      "text/markdown": [
       "If I could redesign one fundamental aspect of human communication, I would enhance the capacity for non-verbal communication signals, such as facial expressions, tone of voice, and body language, by integrating a universally understood emotional indicator system. This system could be a combination of augmented reality and wearable technology that subtly displays a person's emotional state in real time.\n",
       "\n",
       "Here's why I believe this change would foster greater understanding and empathy among people:\n",
       "\n",
       "1. **Clarity in Emotions**: Often, verbal communication lacks the ability to convey true feelings, leading to misunderstandings. By having a visual or auditory cue that indicates emotions—such as a gentle color glow or sound that corresponds to feelings like happiness, sadness, frustration, or confusion—people would be able to interpret emotional states more accurately.\n",
       "\n",
       "2. **Enhanced Empathy**: When individuals can see or hear when someone is experiencing discomfort, joy, or anxiety, it can foster a deeper connection and awareness. This awareness could encourage people to respond with a greater sense of compassion and support, enhancing interpersonal relationships.\n",
       "\n",
       "3. **Reduced Miscommunication**: Misunderstandings often arise from differing interpretations of words or intentions. With clearer emotional indicators, individuals would have additional context that could mitigate potential conflicts and improve the quality of discussions.\n",
       "\n",
       "4. **Cultural Sensitivity**: Such a system could be designed to incorporate cultural nuances in emotional expression, allowing for better cross-cultural communication. This would enable individuals to navigate differences in emotional expressions, fostering respect and appreciation for diversity.\n",
       "\n",
       "In essence, integrating a universal emotional indicator system into human communication could bridge gaps, promote empathetic interactions, and ultimately lead to a more understanding and connected society. The goal would be to create a communication environment where feelings are transparent, and understanding is prioritized, making each interaction more meaningful."
      ],
      "text/plain": [
       "<IPython.core.display.Markdown object>"
      ]
     },
     "metadata": {},
     "output_type": "display_data"
    }
   ],
   "source": [
    "# The API we know well\n",
    "\n",
    "model_name = \"gpt-4o-mini\"\n",
    "\n",
    "response = openai.chat.completions.create(model=model_name, messages=messages)\n",
    "answer = response.choices[0].message.content\n",
    "\n",
    "display(Markdown(answer))\n",
    "competitors.append(model_name)\n",
    "answers.append(answer)"
   ]
  },
  {
   "cell_type": "code",
   "execution_count": 17,
   "metadata": {},
   "outputs": [
    {
     "data": {
      "text/markdown": [
       "# Reimagining Human Communication\n",
       "\n",
       "If I could redesign one fundamental aspect of human communication, I would create a \"perspective-sharing capability\" - the ability to temporarily experience the emotional context and background knowledge that shapes another person's understanding.\n",
       "\n",
       "This wouldn't involve mind-reading or violating privacy, but rather a controlled, consensual exchange where:\n",
       "\n",
       "1. You could briefly feel how your words land emotionally with others\n",
       "2. You could temporarily access relevant contextual knowledge that shapes their interpretation\n",
       "3. The exchange would be bidirectional and mutually illuminating\n",
       "\n",
       "Why this change? Our most profound communication barriers stem from assuming others perceive the world as we do. This capability would preserve our individual identities while creating bridges across different lived experiences, cultural contexts, and emotional landscapes.\n",
       "\n",
       "Imagine how conflicts might transform if we could truly understand not just what others think, but how and why they came to their perspective. The potential for empathy, conflict resolution, and collaborative problem-solving would be extraordinary."
      ],
      "text/plain": [
       "<IPython.core.display.Markdown object>"
      ]
     },
     "metadata": {},
     "output_type": "display_data"
    }
   ],
   "source": [
    "# Anthropic has a slightly different API, and Max Tokens is required\n",
    "\n",
    "model_name = \"claude-3-7-sonnet-latest\"\n",
    "\n",
    "claude = Anthropic()\n",
    "response = claude.messages.create(model=model_name, messages=messages, max_tokens=1000)\n",
    "answer = response.content[0].text\n",
    "\n",
    "display(Markdown(answer))\n",
    "competitors.append(model_name)\n",
    "answers.append(answer)"
   ]
  },
  {
   "cell_type": "code",
   "execution_count": null,
   "metadata": {},
   "outputs": [],
   "source": [
    "gemini = OpenAI(api_key=google_api_key, base_url=\"https://generativelanguage.googleapis.com/v1beta/openai/\")\n",
    "model_name = \"gemini-2.0-flash\"\n",
    "\n",
    "response = gemini.chat.completions.create(model=model_name, messages=messages)\n",
    "answer = response.choices[0].message.content\n",
    "\n",
    "display(Markdown(answer))\n",
    "competitors.append(model_name)\n",
    "answers.append(answer)"
   ]
  },
  {
   "cell_type": "code",
   "execution_count": null,
   "metadata": {},
   "outputs": [],
   "source": [
    "deepseek = OpenAI(api_key=deepseek_api_key, base_url=\"https://api.deepseek.com/v1\")\n",
    "model_name = \"deepseek-chat\"\n",
    "\n",
    "response = deepseek.chat.completions.create(model=model_name, messages=messages)\n",
    "answer = response.choices[0].message.content\n",
    "\n",
    "display(Markdown(answer))\n",
    "competitors.append(model_name)\n",
    "answers.append(answer)"
   ]
  },
  {
   "cell_type": "code",
   "execution_count": null,
   "metadata": {},
   "outputs": [],
   "source": [
    "groq = OpenAI(api_key=groq_api_key, base_url=\"https://api.groq.com/openai/v1\")\n",
    "model_name = \"llama-3.3-70b-versatile\"\n",
    "\n",
    "response = groq.chat.completions.create(model=model_name, messages=messages)\n",
    "answer = response.choices[0].message.content\n",
    "\n",
    "display(Markdown(answer))\n",
    "competitors.append(model_name)\n",
    "answers.append(answer)\n"
   ]
  },
  {
   "cell_type": "markdown",
   "metadata": {},
   "source": [
    "## For the next cell, we will use Ollama\n",
    "\n",
    "Ollama runs a local web service that gives an OpenAI compatible endpoint,  \n",
    "and runs models locally using high performance C++ code.\n",
    "\n",
    "If you don't have Ollama, install it here by visiting https://ollama.com then pressing Download and following the instructions.\n",
    "\n",
    "After it's installed, you should be able to visit here: http://localhost:11434 and see the message \"Ollama is running\"\n",
    "\n",
    "You might need to restart Cursor (and maybe reboot). Then open a Terminal (control+\\`) and run `ollama serve`\n",
    "\n",
    "Useful Ollama commands (run these in the terminal, or with an exclamation mark in this notebook):\n",
    "\n",
    "`ollama pull <model_name>` downloads a model locally  \n",
    "`ollama ls` lists all the models you've downloaded  \n",
    "`ollama rm <model_name>` deletes the specified model from your downloads"
   ]
  },
  {
   "cell_type": "markdown",
   "metadata": {},
   "source": [
    "<table style=\"margin: 0; text-align: left; width:100%\">\n",
    "    <tr>\n",
    "        <td style=\"width: 150px; height: 150px; vertical-align: middle;\">\n",
    "            <img src=\"../assets/stop.png\" width=\"150\" height=\"150\" style=\"display: block;\" />\n",
    "        </td>\n",
    "        <td>\n",
    "            <h2 style=\"color:#ff7800;\">Super important - ignore me at your peril!</h2>\n",
    "            <span style=\"color:#ff7800;\">The model called <b>llama3.3</b> is FAR too large for home computers - it's not intended for personal computing and will consume all your resources! Stick with the nicely sized <b>llama3.2</b> or <b>llama3.2:1b</b> and if you want larger, try llama3.1 or smaller variants of Qwen, Gemma, Phi or DeepSeek. See the <A href=\"https://ollama.com/models\">the Ollama models page</a> for a full list of models and sizes.\n",
    "            </span>\n",
    "        </td>\n",
    "    </tr>\n",
    "</table>"
   ]
  },
  {
   "cell_type": "code",
   "execution_count": null,
   "metadata": {},
   "outputs": [],
   "source": [
    "!ollama pull llama3.2"
   ]
  },
  {
   "cell_type": "code",
   "execution_count": 18,
   "metadata": {},
   "outputs": [
    {
     "data": {
      "text/markdown": [
       "If I could redesign one fundamental aspect of human communication to enhance understanding and empathy among people, I would propose a simple yet crucial modification to the way we use language: incorporating more nuanced contextual markers into everyday conversation.\n",
       "\n",
       "**Current limitations:** Our current reliance on verbal language often leads to misunderstandings, miscommunications, and missed opportunities for genuine connection. Verbal expressions can be ambiguous, subject to multiple interpretations, and vulnerable to cultural, personal, or situational biases. This can result in unintended offense, hurt feelings, or unfulfilled needs.\n",
       "\n",
       "**Proposed redesign:** Integrate contextual markers that enable both speakers and listeners to express and recognize underlying emotional states, intentions, and social cues more effectively. These markers could be embedded into language structures, vocabulary, and non-verbal behaviors.\n",
       "\n",
       "Some possible examples of contextual markers include:\n",
       "\n",
       "1. **Emotional qualifiers**: Incorporate subtle emotional indicators, such as verbal inflections (e.g., \"Can I...\", \"Would that surprise you...\"), to convey the speaker's emotional state or intent.\n",
       "2. **Social referencing cues**: Use everyday conversational phrases like \"That made me think of...\" or \"I'm still wondering if...\"\n",
       "3. **Non-verbal feedback mechanisms**: Incorporate gestures (smiling, nodding), facial expressions, and body language into verbal conversations to provide direct non-verbal cues that complement words.\n",
       "4. **Contextual vocabulary**: Develop a standardized vocabulary with nuanced words that help convey specific emotional states or intentions (e.g., \"I'm feeling overwhelmed,\" \"Can I rely on you\").\n",
       "\n",
       "**Rationale:** By incorporating contextual markers, we can:\n",
       "\n",
       "1. Reduce misunderstandings and miscommunications\n",
       "2. Enhance empathy by conveying the emotional state of both parties\n",
       "3. Increase effective listener engagement and understanding\n",
       "4. Strengthen building trust through open exchange of non-judgmental feedback\n",
       "\n",
       "This redesign aims to augment our existing linguistic tools with more effective communication mechanisms, leveraging natural language processes and subtle social cues to facilitate deeper connections, better relationships, and enhanced understanding among individuals.\n",
       "\n",
       "How do you think a more nuanced contextual marker approach could impact interpersonal conversations?"
      ],
      "text/plain": [
       "<IPython.core.display.Markdown object>"
      ]
     },
     "metadata": {},
     "output_type": "display_data"
    }
   ],
   "source": [
    "ollama = OpenAI(base_url='http://localhost:11434/v1', api_key='ollama')\n",
    "model_name = \"llama3.2\"\n",
    "\n",
    "response = ollama.chat.completions.create(model=model_name, messages=messages)\n",
    "answer = response.choices[0].message.content\n",
    "\n",
    "display(Markdown(answer))\n",
    "competitors.append(model_name)\n",
    "answers.append(answer)"
   ]
  },
  {
   "cell_type": "code",
   "execution_count": 19,
   "metadata": {},
   "outputs": [
    {
     "name": "stdout",
     "output_type": "stream",
     "text": [
      "['gpt-4o-mini', 'claude-3-7-sonnet-latest', 'llama3.2']\n",
      "[\"If I could redesign one fundamental aspect of human communication, I would enhance the capacity for non-verbal communication signals, such as facial expressions, tone of voice, and body language, by integrating a universally understood emotional indicator system. This system could be a combination of augmented reality and wearable technology that subtly displays a person's emotional state in real time.\\n\\nHere's why I believe this change would foster greater understanding and empathy among people:\\n\\n1. **Clarity in Emotions**: Often, verbal communication lacks the ability to convey true feelings, leading to misunderstandings. By having a visual or auditory cue that indicates emotions—such as a gentle color glow or sound that corresponds to feelings like happiness, sadness, frustration, or confusion—people would be able to interpret emotional states more accurately.\\n\\n2. **Enhanced Empathy**: When individuals can see or hear when someone is experiencing discomfort, joy, or anxiety, it can foster a deeper connection and awareness. This awareness could encourage people to respond with a greater sense of compassion and support, enhancing interpersonal relationships.\\n\\n3. **Reduced Miscommunication**: Misunderstandings often arise from differing interpretations of words or intentions. With clearer emotional indicators, individuals would have additional context that could mitigate potential conflicts and improve the quality of discussions.\\n\\n4. **Cultural Sensitivity**: Such a system could be designed to incorporate cultural nuances in emotional expression, allowing for better cross-cultural communication. This would enable individuals to navigate differences in emotional expressions, fostering respect and appreciation for diversity.\\n\\nIn essence, integrating a universal emotional indicator system into human communication could bridge gaps, promote empathetic interactions, and ultimately lead to a more understanding and connected society. The goal would be to create a communication environment where feelings are transparent, and understanding is prioritized, making each interaction more meaningful.\", '# Reimagining Human Communication\\n\\nIf I could redesign one fundamental aspect of human communication, I would create a \"perspective-sharing capability\" - the ability to temporarily experience the emotional context and background knowledge that shapes another person\\'s understanding.\\n\\nThis wouldn\\'t involve mind-reading or violating privacy, but rather a controlled, consensual exchange where:\\n\\n1. You could briefly feel how your words land emotionally with others\\n2. You could temporarily access relevant contextual knowledge that shapes their interpretation\\n3. The exchange would be bidirectional and mutually illuminating\\n\\nWhy this change? Our most profound communication barriers stem from assuming others perceive the world as we do. This capability would preserve our individual identities while creating bridges across different lived experiences, cultural contexts, and emotional landscapes.\\n\\nImagine how conflicts might transform if we could truly understand not just what others think, but how and why they came to their perspective. The potential for empathy, conflict resolution, and collaborative problem-solving would be extraordinary.', 'If I could redesign one fundamental aspect of human communication to enhance understanding and empathy among people, I would propose a simple yet crucial modification to the way we use language: incorporating more nuanced contextual markers into everyday conversation.\\n\\n**Current limitations:** Our current reliance on verbal language often leads to misunderstandings, miscommunications, and missed opportunities for genuine connection. Verbal expressions can be ambiguous, subject to multiple interpretations, and vulnerable to cultural, personal, or situational biases. This can result in unintended offense, hurt feelings, or unfulfilled needs.\\n\\n**Proposed redesign:** Integrate contextual markers that enable both speakers and listeners to express and recognize underlying emotional states, intentions, and social cues more effectively. These markers could be embedded into language structures, vocabulary, and non-verbal behaviors.\\n\\nSome possible examples of contextual markers include:\\n\\n1. **Emotional qualifiers**: Incorporate subtle emotional indicators, such as verbal inflections (e.g., \"Can I...\", \"Would that surprise you...\"), to convey the speaker\\'s emotional state or intent.\\n2. **Social referencing cues**: Use everyday conversational phrases like \"That made me think of...\" or \"I\\'m still wondering if...\"\\n3. **Non-verbal feedback mechanisms**: Incorporate gestures (smiling, nodding), facial expressions, and body language into verbal conversations to provide direct non-verbal cues that complement words.\\n4. **Contextual vocabulary**: Develop a standardized vocabulary with nuanced words that help convey specific emotional states or intentions (e.g., \"I\\'m feeling overwhelmed,\" \"Can I rely on you\").\\n\\n**Rationale:** By incorporating contextual markers, we can:\\n\\n1. Reduce misunderstandings and miscommunications\\n2. Enhance empathy by conveying the emotional state of both parties\\n3. Increase effective listener engagement and understanding\\n4. Strengthen building trust through open exchange of non-judgmental feedback\\n\\nThis redesign aims to augment our existing linguistic tools with more effective communication mechanisms, leveraging natural language processes and subtle social cues to facilitate deeper connections, better relationships, and enhanced understanding among individuals.\\n\\nHow do you think a more nuanced contextual marker approach could impact interpersonal conversations?']\n"
     ]
    }
   ],
   "source": [
    "# So where are we?\n",
    "\n",
    "print(competitors)\n",
    "print(answers)\n"
   ]
  },
  {
   "cell_type": "code",
   "execution_count": 20,
   "metadata": {},
   "outputs": [
    {
     "name": "stdout",
     "output_type": "stream",
     "text": [
      "Competitor: gpt-4o-mini\n",
      "\n",
      "If I could redesign one fundamental aspect of human communication, I would enhance the capacity for non-verbal communication signals, such as facial expressions, tone of voice, and body language, by integrating a universally understood emotional indicator system. This system could be a combination of augmented reality and wearable technology that subtly displays a person's emotional state in real time.\n",
      "\n",
      "Here's why I believe this change would foster greater understanding and empathy among people:\n",
      "\n",
      "1. **Clarity in Emotions**: Often, verbal communication lacks the ability to convey true feelings, leading to misunderstandings. By having a visual or auditory cue that indicates emotions—such as a gentle color glow or sound that corresponds to feelings like happiness, sadness, frustration, or confusion—people would be able to interpret emotional states more accurately.\n",
      "\n",
      "2. **Enhanced Empathy**: When individuals can see or hear when someone is experiencing discomfort, joy, or anxiety, it can foster a deeper connection and awareness. This awareness could encourage people to respond with a greater sense of compassion and support, enhancing interpersonal relationships.\n",
      "\n",
      "3. **Reduced Miscommunication**: Misunderstandings often arise from differing interpretations of words or intentions. With clearer emotional indicators, individuals would have additional context that could mitigate potential conflicts and improve the quality of discussions.\n",
      "\n",
      "4. **Cultural Sensitivity**: Such a system could be designed to incorporate cultural nuances in emotional expression, allowing for better cross-cultural communication. This would enable individuals to navigate differences in emotional expressions, fostering respect and appreciation for diversity.\n",
      "\n",
      "In essence, integrating a universal emotional indicator system into human communication could bridge gaps, promote empathetic interactions, and ultimately lead to a more understanding and connected society. The goal would be to create a communication environment where feelings are transparent, and understanding is prioritized, making each interaction more meaningful.\n",
      "Competitor: claude-3-7-sonnet-latest\n",
      "\n",
      "# Reimagining Human Communication\n",
      "\n",
      "If I could redesign one fundamental aspect of human communication, I would create a \"perspective-sharing capability\" - the ability to temporarily experience the emotional context and background knowledge that shapes another person's understanding.\n",
      "\n",
      "This wouldn't involve mind-reading or violating privacy, but rather a controlled, consensual exchange where:\n",
      "\n",
      "1. You could briefly feel how your words land emotionally with others\n",
      "2. You could temporarily access relevant contextual knowledge that shapes their interpretation\n",
      "3. The exchange would be bidirectional and mutually illuminating\n",
      "\n",
      "Why this change? Our most profound communication barriers stem from assuming others perceive the world as we do. This capability would preserve our individual identities while creating bridges across different lived experiences, cultural contexts, and emotional landscapes.\n",
      "\n",
      "Imagine how conflicts might transform if we could truly understand not just what others think, but how and why they came to their perspective. The potential for empathy, conflict resolution, and collaborative problem-solving would be extraordinary.\n",
      "Competitor: llama3.2\n",
      "\n",
      "If I could redesign one fundamental aspect of human communication to enhance understanding and empathy among people, I would propose a simple yet crucial modification to the way we use language: incorporating more nuanced contextual markers into everyday conversation.\n",
      "\n",
      "**Current limitations:** Our current reliance on verbal language often leads to misunderstandings, miscommunications, and missed opportunities for genuine connection. Verbal expressions can be ambiguous, subject to multiple interpretations, and vulnerable to cultural, personal, or situational biases. This can result in unintended offense, hurt feelings, or unfulfilled needs.\n",
      "\n",
      "**Proposed redesign:** Integrate contextual markers that enable both speakers and listeners to express and recognize underlying emotional states, intentions, and social cues more effectively. These markers could be embedded into language structures, vocabulary, and non-verbal behaviors.\n",
      "\n",
      "Some possible examples of contextual markers include:\n",
      "\n",
      "1. **Emotional qualifiers**: Incorporate subtle emotional indicators, such as verbal inflections (e.g., \"Can I...\", \"Would that surprise you...\"), to convey the speaker's emotional state or intent.\n",
      "2. **Social referencing cues**: Use everyday conversational phrases like \"That made me think of...\" or \"I'm still wondering if...\"\n",
      "3. **Non-verbal feedback mechanisms**: Incorporate gestures (smiling, nodding), facial expressions, and body language into verbal conversations to provide direct non-verbal cues that complement words.\n",
      "4. **Contextual vocabulary**: Develop a standardized vocabulary with nuanced words that help convey specific emotional states or intentions (e.g., \"I'm feeling overwhelmed,\" \"Can I rely on you\").\n",
      "\n",
      "**Rationale:** By incorporating contextual markers, we can:\n",
      "\n",
      "1. Reduce misunderstandings and miscommunications\n",
      "2. Enhance empathy by conveying the emotional state of both parties\n",
      "3. Increase effective listener engagement and understanding\n",
      "4. Strengthen building trust through open exchange of non-judgmental feedback\n",
      "\n",
      "This redesign aims to augment our existing linguistic tools with more effective communication mechanisms, leveraging natural language processes and subtle social cues to facilitate deeper connections, better relationships, and enhanced understanding among individuals.\n",
      "\n",
      "How do you think a more nuanced contextual marker approach could impact interpersonal conversations?\n"
     ]
    }
   ],
   "source": [
    "# It's nice to know how to use \"zip\"\n",
    "for competitor, answer in zip(competitors, answers):\n",
    "    print(f\"Competitor: {competitor}\\n\\n{answer}\")\n"
   ]
  },
  {
   "cell_type": "code",
   "execution_count": 21,
   "metadata": {},
   "outputs": [],
   "source": [
    "# Let's bring this together - note the use of \"enumerate\"\n",
    "\n",
    "together = \"\"\n",
    "for index, answer in enumerate(answers):\n",
    "    together += f\"# Response from competitor {index+1}\\n\\n\"\n",
    "    together += answer + \"\\n\\n\""
   ]
  },
  {
   "cell_type": "code",
   "execution_count": 22,
   "metadata": {},
   "outputs": [
    {
     "name": "stdout",
     "output_type": "stream",
     "text": [
      "# Response from competitor 1\n",
      "\n",
      "If I could redesign one fundamental aspect of human communication, I would enhance the capacity for non-verbal communication signals, such as facial expressions, tone of voice, and body language, by integrating a universally understood emotional indicator system. This system could be a combination of augmented reality and wearable technology that subtly displays a person's emotional state in real time.\n",
      "\n",
      "Here's why I believe this change would foster greater understanding and empathy among people:\n",
      "\n",
      "1. **Clarity in Emotions**: Often, verbal communication lacks the ability to convey true feelings, leading to misunderstandings. By having a visual or auditory cue that indicates emotions—such as a gentle color glow or sound that corresponds to feelings like happiness, sadness, frustration, or confusion—people would be able to interpret emotional states more accurately.\n",
      "\n",
      "2. **Enhanced Empathy**: When individuals can see or hear when someone is experiencing discomfort, joy, or anxiety, it can foster a deeper connection and awareness. This awareness could encourage people to respond with a greater sense of compassion and support, enhancing interpersonal relationships.\n",
      "\n",
      "3. **Reduced Miscommunication**: Misunderstandings often arise from differing interpretations of words or intentions. With clearer emotional indicators, individuals would have additional context that could mitigate potential conflicts and improve the quality of discussions.\n",
      "\n",
      "4. **Cultural Sensitivity**: Such a system could be designed to incorporate cultural nuances in emotional expression, allowing for better cross-cultural communication. This would enable individuals to navigate differences in emotional expressions, fostering respect and appreciation for diversity.\n",
      "\n",
      "In essence, integrating a universal emotional indicator system into human communication could bridge gaps, promote empathetic interactions, and ultimately lead to a more understanding and connected society. The goal would be to create a communication environment where feelings are transparent, and understanding is prioritized, making each interaction more meaningful.\n",
      "\n",
      "# Response from competitor 2\n",
      "\n",
      "# Reimagining Human Communication\n",
      "\n",
      "If I could redesign one fundamental aspect of human communication, I would create a \"perspective-sharing capability\" - the ability to temporarily experience the emotional context and background knowledge that shapes another person's understanding.\n",
      "\n",
      "This wouldn't involve mind-reading or violating privacy, but rather a controlled, consensual exchange where:\n",
      "\n",
      "1. You could briefly feel how your words land emotionally with others\n",
      "2. You could temporarily access relevant contextual knowledge that shapes their interpretation\n",
      "3. The exchange would be bidirectional and mutually illuminating\n",
      "\n",
      "Why this change? Our most profound communication barriers stem from assuming others perceive the world as we do. This capability would preserve our individual identities while creating bridges across different lived experiences, cultural contexts, and emotional landscapes.\n",
      "\n",
      "Imagine how conflicts might transform if we could truly understand not just what others think, but how and why they came to their perspective. The potential for empathy, conflict resolution, and collaborative problem-solving would be extraordinary.\n",
      "\n",
      "# Response from competitor 3\n",
      "\n",
      "If I could redesign one fundamental aspect of human communication to enhance understanding and empathy among people, I would propose a simple yet crucial modification to the way we use language: incorporating more nuanced contextual markers into everyday conversation.\n",
      "\n",
      "**Current limitations:** Our current reliance on verbal language often leads to misunderstandings, miscommunications, and missed opportunities for genuine connection. Verbal expressions can be ambiguous, subject to multiple interpretations, and vulnerable to cultural, personal, or situational biases. This can result in unintended offense, hurt feelings, or unfulfilled needs.\n",
      "\n",
      "**Proposed redesign:** Integrate contextual markers that enable both speakers and listeners to express and recognize underlying emotional states, intentions, and social cues more effectively. These markers could be embedded into language structures, vocabulary, and non-verbal behaviors.\n",
      "\n",
      "Some possible examples of contextual markers include:\n",
      "\n",
      "1. **Emotional qualifiers**: Incorporate subtle emotional indicators, such as verbal inflections (e.g., \"Can I...\", \"Would that surprise you...\"), to convey the speaker's emotional state or intent.\n",
      "2. **Social referencing cues**: Use everyday conversational phrases like \"That made me think of...\" or \"I'm still wondering if...\"\n",
      "3. **Non-verbal feedback mechanisms**: Incorporate gestures (smiling, nodding), facial expressions, and body language into verbal conversations to provide direct non-verbal cues that complement words.\n",
      "4. **Contextual vocabulary**: Develop a standardized vocabulary with nuanced words that help convey specific emotional states or intentions (e.g., \"I'm feeling overwhelmed,\" \"Can I rely on you\").\n",
      "\n",
      "**Rationale:** By incorporating contextual markers, we can:\n",
      "\n",
      "1. Reduce misunderstandings and miscommunications\n",
      "2. Enhance empathy by conveying the emotional state of both parties\n",
      "3. Increase effective listener engagement and understanding\n",
      "4. Strengthen building trust through open exchange of non-judgmental feedback\n",
      "\n",
      "This redesign aims to augment our existing linguistic tools with more effective communication mechanisms, leveraging natural language processes and subtle social cues to facilitate deeper connections, better relationships, and enhanced understanding among individuals.\n",
      "\n",
      "How do you think a more nuanced contextual marker approach could impact interpersonal conversations?\n",
      "\n",
      "\n"
     ]
    }
   ],
   "source": [
    "print(together)"
   ]
  },
  {
   "cell_type": "code",
   "execution_count": 23,
   "metadata": {},
   "outputs": [],
   "source": [
    "judge = f\"\"\"You are judging a competition between {len(competitors)} competitors.\n",
    "Each model has been given this question:\n",
    "\n",
    "{question}\n",
    "\n",
    "Your job is to evaluate each response for clarity and strength of argument, and rank them in order of best to worst.\n",
    "Respond with JSON, and only JSON, with the following format:\n",
    "{{\"results\": [\"best competitor number\", \"second best competitor number\", \"third best competitor number\", ...]}}\n",
    "\n",
    "Here are the responses from each competitor:\n",
    "\n",
    "{together}\n",
    "\n",
    "Now respond with the JSON with the ranked order of the competitors, nothing else. Do not include markdown formatting or code blocks.\"\"\"\n"
   ]
  },
  {
   "cell_type": "code",
   "execution_count": 24,
   "metadata": {},
   "outputs": [
    {
     "name": "stdout",
     "output_type": "stream",
     "text": [
      "You are judging a competition between 3 competitors.\n",
      "Each model has been given this question:\n",
      "\n",
      "If you could redesign one fundamental aspect of human communication to enhance understanding and empathy among people, what would you change and why?\n",
      "\n",
      "Your job is to evaluate each response for clarity and strength of argument, and rank them in order of best to worst.\n",
      "Respond with JSON, and only JSON, with the following format:\n",
      "{\"results\": [\"best competitor number\", \"second best competitor number\", \"third best competitor number\", ...]}\n",
      "\n",
      "Here are the responses from each competitor:\n",
      "\n",
      "# Response from competitor 1\n",
      "\n",
      "If I could redesign one fundamental aspect of human communication, I would enhance the capacity for non-verbal communication signals, such as facial expressions, tone of voice, and body language, by integrating a universally understood emotional indicator system. This system could be a combination of augmented reality and wearable technology that subtly displays a person's emotional state in real time.\n",
      "\n",
      "Here's why I believe this change would foster greater understanding and empathy among people:\n",
      "\n",
      "1. **Clarity in Emotions**: Often, verbal communication lacks the ability to convey true feelings, leading to misunderstandings. By having a visual or auditory cue that indicates emotions—such as a gentle color glow or sound that corresponds to feelings like happiness, sadness, frustration, or confusion—people would be able to interpret emotional states more accurately.\n",
      "\n",
      "2. **Enhanced Empathy**: When individuals can see or hear when someone is experiencing discomfort, joy, or anxiety, it can foster a deeper connection and awareness. This awareness could encourage people to respond with a greater sense of compassion and support, enhancing interpersonal relationships.\n",
      "\n",
      "3. **Reduced Miscommunication**: Misunderstandings often arise from differing interpretations of words or intentions. With clearer emotional indicators, individuals would have additional context that could mitigate potential conflicts and improve the quality of discussions.\n",
      "\n",
      "4. **Cultural Sensitivity**: Such a system could be designed to incorporate cultural nuances in emotional expression, allowing for better cross-cultural communication. This would enable individuals to navigate differences in emotional expressions, fostering respect and appreciation for diversity.\n",
      "\n",
      "In essence, integrating a universal emotional indicator system into human communication could bridge gaps, promote empathetic interactions, and ultimately lead to a more understanding and connected society. The goal would be to create a communication environment where feelings are transparent, and understanding is prioritized, making each interaction more meaningful.\n",
      "\n",
      "# Response from competitor 2\n",
      "\n",
      "# Reimagining Human Communication\n",
      "\n",
      "If I could redesign one fundamental aspect of human communication, I would create a \"perspective-sharing capability\" - the ability to temporarily experience the emotional context and background knowledge that shapes another person's understanding.\n",
      "\n",
      "This wouldn't involve mind-reading or violating privacy, but rather a controlled, consensual exchange where:\n",
      "\n",
      "1. You could briefly feel how your words land emotionally with others\n",
      "2. You could temporarily access relevant contextual knowledge that shapes their interpretation\n",
      "3. The exchange would be bidirectional and mutually illuminating\n",
      "\n",
      "Why this change? Our most profound communication barriers stem from assuming others perceive the world as we do. This capability would preserve our individual identities while creating bridges across different lived experiences, cultural contexts, and emotional landscapes.\n",
      "\n",
      "Imagine how conflicts might transform if we could truly understand not just what others think, but how and why they came to their perspective. The potential for empathy, conflict resolution, and collaborative problem-solving would be extraordinary.\n",
      "\n",
      "# Response from competitor 3\n",
      "\n",
      "If I could redesign one fundamental aspect of human communication to enhance understanding and empathy among people, I would propose a simple yet crucial modification to the way we use language: incorporating more nuanced contextual markers into everyday conversation.\n",
      "\n",
      "**Current limitations:** Our current reliance on verbal language often leads to misunderstandings, miscommunications, and missed opportunities for genuine connection. Verbal expressions can be ambiguous, subject to multiple interpretations, and vulnerable to cultural, personal, or situational biases. This can result in unintended offense, hurt feelings, or unfulfilled needs.\n",
      "\n",
      "**Proposed redesign:** Integrate contextual markers that enable both speakers and listeners to express and recognize underlying emotional states, intentions, and social cues more effectively. These markers could be embedded into language structures, vocabulary, and non-verbal behaviors.\n",
      "\n",
      "Some possible examples of contextual markers include:\n",
      "\n",
      "1. **Emotional qualifiers**: Incorporate subtle emotional indicators, such as verbal inflections (e.g., \"Can I...\", \"Would that surprise you...\"), to convey the speaker's emotional state or intent.\n",
      "2. **Social referencing cues**: Use everyday conversational phrases like \"That made me think of...\" or \"I'm still wondering if...\"\n",
      "3. **Non-verbal feedback mechanisms**: Incorporate gestures (smiling, nodding), facial expressions, and body language into verbal conversations to provide direct non-verbal cues that complement words.\n",
      "4. **Contextual vocabulary**: Develop a standardized vocabulary with nuanced words that help convey specific emotional states or intentions (e.g., \"I'm feeling overwhelmed,\" \"Can I rely on you\").\n",
      "\n",
      "**Rationale:** By incorporating contextual markers, we can:\n",
      "\n",
      "1. Reduce misunderstandings and miscommunications\n",
      "2. Enhance empathy by conveying the emotional state of both parties\n",
      "3. Increase effective listener engagement and understanding\n",
      "4. Strengthen building trust through open exchange of non-judgmental feedback\n",
      "\n",
      "This redesign aims to augment our existing linguistic tools with more effective communication mechanisms, leveraging natural language processes and subtle social cues to facilitate deeper connections, better relationships, and enhanced understanding among individuals.\n",
      "\n",
      "How do you think a more nuanced contextual marker approach could impact interpersonal conversations?\n",
      "\n",
      "\n",
      "\n",
      "Now respond with the JSON with the ranked order of the competitors, nothing else. Do not include markdown formatting or code blocks.\n"
     ]
    }
   ],
   "source": [
    "print(judge)"
   ]
  },
  {
   "cell_type": "code",
   "execution_count": 25,
   "metadata": {},
   "outputs": [],
   "source": [
    "judge_messages = [{\"role\": \"user\", \"content\": judge}]"
   ]
  },
  {
   "cell_type": "code",
   "execution_count": 26,
   "metadata": {},
   "outputs": [
    {
     "ename": "AuthenticationError",
     "evalue": "Error code: 401 - {'error': {'message': 'Incorrect API key provided: sk-PHNV3***************************************R1mX. You can find your API key at https://platform.openai.com/account/api-keys.', 'type': 'invalid_request_error', 'param': None, 'code': 'invalid_api_key'}}",
     "output_type": "error",
     "traceback": [
      "\u001b[31m---------------------------------------------------------------------------\u001b[39m",
      "\u001b[31mAuthenticationError\u001b[39m                       Traceback (most recent call last)",
      "\u001b[36mCell\u001b[39m\u001b[36m \u001b[39m\u001b[32mIn[26]\u001b[39m\u001b[32m, line 4\u001b[39m\n\u001b[32m      1\u001b[39m \u001b[38;5;66;03m# Judgement time!\u001b[39;00m\n\u001b[32m      3\u001b[39m openai = OpenAI()\n\u001b[32m----> \u001b[39m\u001b[32m4\u001b[39m response = \u001b[43mopenai\u001b[49m\u001b[43m.\u001b[49m\u001b[43mchat\u001b[49m\u001b[43m.\u001b[49m\u001b[43mcompletions\u001b[49m\u001b[43m.\u001b[49m\u001b[43mcreate\u001b[49m\u001b[43m(\u001b[49m\n\u001b[32m      5\u001b[39m \u001b[43m    \u001b[49m\u001b[43mmodel\u001b[49m\u001b[43m=\u001b[49m\u001b[33;43m\"\u001b[39;49m\u001b[33;43mo3-mini\u001b[39;49m\u001b[33;43m\"\u001b[39;49m\u001b[43m,\u001b[49m\n\u001b[32m      6\u001b[39m \u001b[43m    \u001b[49m\u001b[43mmessages\u001b[49m\u001b[43m=\u001b[49m\u001b[43mjudge_messages\u001b[49m\u001b[43m,\u001b[49m\n\u001b[32m      7\u001b[39m \u001b[43m)\u001b[49m\n\u001b[32m      8\u001b[39m results = response.choices[\u001b[32m0\u001b[39m].message.content\n\u001b[32m      9\u001b[39m \u001b[38;5;28mprint\u001b[39m(results)\n",
      "\u001b[36mFile \u001b[39m\u001b[32m~/udemy/agents/.venv/lib/python3.12/site-packages/openai/_utils/_utils.py:287\u001b[39m, in \u001b[36mrequired_args.<locals>.inner.<locals>.wrapper\u001b[39m\u001b[34m(*args, **kwargs)\u001b[39m\n\u001b[32m    285\u001b[39m             msg = \u001b[33mf\u001b[39m\u001b[33m\"\u001b[39m\u001b[33mMissing required argument: \u001b[39m\u001b[38;5;132;01m{\u001b[39;00mquote(missing[\u001b[32m0\u001b[39m])\u001b[38;5;132;01m}\u001b[39;00m\u001b[33m\"\u001b[39m\n\u001b[32m    286\u001b[39m     \u001b[38;5;28;01mraise\u001b[39;00m \u001b[38;5;167;01mTypeError\u001b[39;00m(msg)\n\u001b[32m--> \u001b[39m\u001b[32m287\u001b[39m \u001b[38;5;28;01mreturn\u001b[39;00m \u001b[43mfunc\u001b[49m\u001b[43m(\u001b[49m\u001b[43m*\u001b[49m\u001b[43margs\u001b[49m\u001b[43m,\u001b[49m\u001b[43m \u001b[49m\u001b[43m*\u001b[49m\u001b[43m*\u001b[49m\u001b[43mkwargs\u001b[49m\u001b[43m)\u001b[49m\n",
      "\u001b[36mFile \u001b[39m\u001b[32m~/udemy/agents/.venv/lib/python3.12/site-packages/openai/resources/chat/completions/completions.py:925\u001b[39m, in \u001b[36mCompletions.create\u001b[39m\u001b[34m(self, messages, model, audio, frequency_penalty, function_call, functions, logit_bias, logprobs, max_completion_tokens, max_tokens, metadata, modalities, n, parallel_tool_calls, prediction, presence_penalty, reasoning_effort, response_format, seed, service_tier, stop, store, stream, stream_options, temperature, tool_choice, tools, top_logprobs, top_p, user, web_search_options, extra_headers, extra_query, extra_body, timeout)\u001b[39m\n\u001b[32m    882\u001b[39m \u001b[38;5;129m@required_args\u001b[39m([\u001b[33m\"\u001b[39m\u001b[33mmessages\u001b[39m\u001b[33m\"\u001b[39m, \u001b[33m\"\u001b[39m\u001b[33mmodel\u001b[39m\u001b[33m\"\u001b[39m], [\u001b[33m\"\u001b[39m\u001b[33mmessages\u001b[39m\u001b[33m\"\u001b[39m, \u001b[33m\"\u001b[39m\u001b[33mmodel\u001b[39m\u001b[33m\"\u001b[39m, \u001b[33m\"\u001b[39m\u001b[33mstream\u001b[39m\u001b[33m\"\u001b[39m])\n\u001b[32m    883\u001b[39m \u001b[38;5;28;01mdef\u001b[39;00m\u001b[38;5;250m \u001b[39m\u001b[34mcreate\u001b[39m(\n\u001b[32m    884\u001b[39m     \u001b[38;5;28mself\u001b[39m,\n\u001b[32m   (...)\u001b[39m\u001b[32m    922\u001b[39m     timeout: \u001b[38;5;28mfloat\u001b[39m | httpx.Timeout | \u001b[38;5;28;01mNone\u001b[39;00m | NotGiven = NOT_GIVEN,\n\u001b[32m    923\u001b[39m ) -> ChatCompletion | Stream[ChatCompletionChunk]:\n\u001b[32m    924\u001b[39m     validate_response_format(response_format)\n\u001b[32m--> \u001b[39m\u001b[32m925\u001b[39m     \u001b[38;5;28;01mreturn\u001b[39;00m \u001b[38;5;28;43mself\u001b[39;49m\u001b[43m.\u001b[49m\u001b[43m_post\u001b[49m\u001b[43m(\u001b[49m\n\u001b[32m    926\u001b[39m \u001b[43m        \u001b[49m\u001b[33;43m\"\u001b[39;49m\u001b[33;43m/chat/completions\u001b[39;49m\u001b[33;43m\"\u001b[39;49m\u001b[43m,\u001b[49m\n\u001b[32m    927\u001b[39m \u001b[43m        \u001b[49m\u001b[43mbody\u001b[49m\u001b[43m=\u001b[49m\u001b[43mmaybe_transform\u001b[49m\u001b[43m(\u001b[49m\n\u001b[32m    928\u001b[39m \u001b[43m            \u001b[49m\u001b[43m{\u001b[49m\n\u001b[32m    929\u001b[39m \u001b[43m                \u001b[49m\u001b[33;43m\"\u001b[39;49m\u001b[33;43mmessages\u001b[39;49m\u001b[33;43m\"\u001b[39;49m\u001b[43m:\u001b[49m\u001b[43m \u001b[49m\u001b[43mmessages\u001b[49m\u001b[43m,\u001b[49m\n\u001b[32m    930\u001b[39m \u001b[43m                \u001b[49m\u001b[33;43m\"\u001b[39;49m\u001b[33;43mmodel\u001b[39;49m\u001b[33;43m\"\u001b[39;49m\u001b[43m:\u001b[49m\u001b[43m \u001b[49m\u001b[43mmodel\u001b[49m\u001b[43m,\u001b[49m\n\u001b[32m    931\u001b[39m \u001b[43m                \u001b[49m\u001b[33;43m\"\u001b[39;49m\u001b[33;43maudio\u001b[39;49m\u001b[33;43m\"\u001b[39;49m\u001b[43m:\u001b[49m\u001b[43m \u001b[49m\u001b[43maudio\u001b[49m\u001b[43m,\u001b[49m\n\u001b[32m    932\u001b[39m \u001b[43m                \u001b[49m\u001b[33;43m\"\u001b[39;49m\u001b[33;43mfrequency_penalty\u001b[39;49m\u001b[33;43m\"\u001b[39;49m\u001b[43m:\u001b[49m\u001b[43m \u001b[49m\u001b[43mfrequency_penalty\u001b[49m\u001b[43m,\u001b[49m\n\u001b[32m    933\u001b[39m \u001b[43m                \u001b[49m\u001b[33;43m\"\u001b[39;49m\u001b[33;43mfunction_call\u001b[39;49m\u001b[33;43m\"\u001b[39;49m\u001b[43m:\u001b[49m\u001b[43m \u001b[49m\u001b[43mfunction_call\u001b[49m\u001b[43m,\u001b[49m\n\u001b[32m    934\u001b[39m \u001b[43m                \u001b[49m\u001b[33;43m\"\u001b[39;49m\u001b[33;43mfunctions\u001b[39;49m\u001b[33;43m\"\u001b[39;49m\u001b[43m:\u001b[49m\u001b[43m \u001b[49m\u001b[43mfunctions\u001b[49m\u001b[43m,\u001b[49m\n\u001b[32m    935\u001b[39m \u001b[43m                \u001b[49m\u001b[33;43m\"\u001b[39;49m\u001b[33;43mlogit_bias\u001b[39;49m\u001b[33;43m\"\u001b[39;49m\u001b[43m:\u001b[49m\u001b[43m \u001b[49m\u001b[43mlogit_bias\u001b[49m\u001b[43m,\u001b[49m\n\u001b[32m    936\u001b[39m \u001b[43m                \u001b[49m\u001b[33;43m\"\u001b[39;49m\u001b[33;43mlogprobs\u001b[39;49m\u001b[33;43m\"\u001b[39;49m\u001b[43m:\u001b[49m\u001b[43m \u001b[49m\u001b[43mlogprobs\u001b[49m\u001b[43m,\u001b[49m\n\u001b[32m    937\u001b[39m \u001b[43m                \u001b[49m\u001b[33;43m\"\u001b[39;49m\u001b[33;43mmax_completion_tokens\u001b[39;49m\u001b[33;43m\"\u001b[39;49m\u001b[43m:\u001b[49m\u001b[43m \u001b[49m\u001b[43mmax_completion_tokens\u001b[49m\u001b[43m,\u001b[49m\n\u001b[32m    938\u001b[39m \u001b[43m                \u001b[49m\u001b[33;43m\"\u001b[39;49m\u001b[33;43mmax_tokens\u001b[39;49m\u001b[33;43m\"\u001b[39;49m\u001b[43m:\u001b[49m\u001b[43m \u001b[49m\u001b[43mmax_tokens\u001b[49m\u001b[43m,\u001b[49m\n\u001b[32m    939\u001b[39m \u001b[43m                \u001b[49m\u001b[33;43m\"\u001b[39;49m\u001b[33;43mmetadata\u001b[39;49m\u001b[33;43m\"\u001b[39;49m\u001b[43m:\u001b[49m\u001b[43m \u001b[49m\u001b[43mmetadata\u001b[49m\u001b[43m,\u001b[49m\n\u001b[32m    940\u001b[39m \u001b[43m                \u001b[49m\u001b[33;43m\"\u001b[39;49m\u001b[33;43mmodalities\u001b[39;49m\u001b[33;43m\"\u001b[39;49m\u001b[43m:\u001b[49m\u001b[43m \u001b[49m\u001b[43mmodalities\u001b[49m\u001b[43m,\u001b[49m\n\u001b[32m    941\u001b[39m \u001b[43m                \u001b[49m\u001b[33;43m\"\u001b[39;49m\u001b[33;43mn\u001b[39;49m\u001b[33;43m\"\u001b[39;49m\u001b[43m:\u001b[49m\u001b[43m \u001b[49m\u001b[43mn\u001b[49m\u001b[43m,\u001b[49m\n\u001b[32m    942\u001b[39m \u001b[43m                \u001b[49m\u001b[33;43m\"\u001b[39;49m\u001b[33;43mparallel_tool_calls\u001b[39;49m\u001b[33;43m\"\u001b[39;49m\u001b[43m:\u001b[49m\u001b[43m \u001b[49m\u001b[43mparallel_tool_calls\u001b[49m\u001b[43m,\u001b[49m\n\u001b[32m    943\u001b[39m \u001b[43m                \u001b[49m\u001b[33;43m\"\u001b[39;49m\u001b[33;43mprediction\u001b[39;49m\u001b[33;43m\"\u001b[39;49m\u001b[43m:\u001b[49m\u001b[43m \u001b[49m\u001b[43mprediction\u001b[49m\u001b[43m,\u001b[49m\n\u001b[32m    944\u001b[39m \u001b[43m                \u001b[49m\u001b[33;43m\"\u001b[39;49m\u001b[33;43mpresence_penalty\u001b[39;49m\u001b[33;43m\"\u001b[39;49m\u001b[43m:\u001b[49m\u001b[43m \u001b[49m\u001b[43mpresence_penalty\u001b[49m\u001b[43m,\u001b[49m\n\u001b[32m    945\u001b[39m \u001b[43m                \u001b[49m\u001b[33;43m\"\u001b[39;49m\u001b[33;43mreasoning_effort\u001b[39;49m\u001b[33;43m\"\u001b[39;49m\u001b[43m:\u001b[49m\u001b[43m \u001b[49m\u001b[43mreasoning_effort\u001b[49m\u001b[43m,\u001b[49m\n\u001b[32m    946\u001b[39m \u001b[43m                \u001b[49m\u001b[33;43m\"\u001b[39;49m\u001b[33;43mresponse_format\u001b[39;49m\u001b[33;43m\"\u001b[39;49m\u001b[43m:\u001b[49m\u001b[43m \u001b[49m\u001b[43mresponse_format\u001b[49m\u001b[43m,\u001b[49m\n\u001b[32m    947\u001b[39m \u001b[43m                \u001b[49m\u001b[33;43m\"\u001b[39;49m\u001b[33;43mseed\u001b[39;49m\u001b[33;43m\"\u001b[39;49m\u001b[43m:\u001b[49m\u001b[43m \u001b[49m\u001b[43mseed\u001b[49m\u001b[43m,\u001b[49m\n\u001b[32m    948\u001b[39m \u001b[43m                \u001b[49m\u001b[33;43m\"\u001b[39;49m\u001b[33;43mservice_tier\u001b[39;49m\u001b[33;43m\"\u001b[39;49m\u001b[43m:\u001b[49m\u001b[43m \u001b[49m\u001b[43mservice_tier\u001b[49m\u001b[43m,\u001b[49m\n\u001b[32m    949\u001b[39m \u001b[43m                \u001b[49m\u001b[33;43m\"\u001b[39;49m\u001b[33;43mstop\u001b[39;49m\u001b[33;43m\"\u001b[39;49m\u001b[43m:\u001b[49m\u001b[43m \u001b[49m\u001b[43mstop\u001b[49m\u001b[43m,\u001b[49m\n\u001b[32m    950\u001b[39m \u001b[43m                \u001b[49m\u001b[33;43m\"\u001b[39;49m\u001b[33;43mstore\u001b[39;49m\u001b[33;43m\"\u001b[39;49m\u001b[43m:\u001b[49m\u001b[43m \u001b[49m\u001b[43mstore\u001b[49m\u001b[43m,\u001b[49m\n\u001b[32m    951\u001b[39m \u001b[43m                \u001b[49m\u001b[33;43m\"\u001b[39;49m\u001b[33;43mstream\u001b[39;49m\u001b[33;43m\"\u001b[39;49m\u001b[43m:\u001b[49m\u001b[43m \u001b[49m\u001b[43mstream\u001b[49m\u001b[43m,\u001b[49m\n\u001b[32m    952\u001b[39m \u001b[43m                \u001b[49m\u001b[33;43m\"\u001b[39;49m\u001b[33;43mstream_options\u001b[39;49m\u001b[33;43m\"\u001b[39;49m\u001b[43m:\u001b[49m\u001b[43m \u001b[49m\u001b[43mstream_options\u001b[49m\u001b[43m,\u001b[49m\n\u001b[32m    953\u001b[39m \u001b[43m                \u001b[49m\u001b[33;43m\"\u001b[39;49m\u001b[33;43mtemperature\u001b[39;49m\u001b[33;43m\"\u001b[39;49m\u001b[43m:\u001b[49m\u001b[43m \u001b[49m\u001b[43mtemperature\u001b[49m\u001b[43m,\u001b[49m\n\u001b[32m    954\u001b[39m \u001b[43m                \u001b[49m\u001b[33;43m\"\u001b[39;49m\u001b[33;43mtool_choice\u001b[39;49m\u001b[33;43m\"\u001b[39;49m\u001b[43m:\u001b[49m\u001b[43m \u001b[49m\u001b[43mtool_choice\u001b[49m\u001b[43m,\u001b[49m\n\u001b[32m    955\u001b[39m \u001b[43m                \u001b[49m\u001b[33;43m\"\u001b[39;49m\u001b[33;43mtools\u001b[39;49m\u001b[33;43m\"\u001b[39;49m\u001b[43m:\u001b[49m\u001b[43m \u001b[49m\u001b[43mtools\u001b[49m\u001b[43m,\u001b[49m\n\u001b[32m    956\u001b[39m \u001b[43m                \u001b[49m\u001b[33;43m\"\u001b[39;49m\u001b[33;43mtop_logprobs\u001b[39;49m\u001b[33;43m\"\u001b[39;49m\u001b[43m:\u001b[49m\u001b[43m \u001b[49m\u001b[43mtop_logprobs\u001b[49m\u001b[43m,\u001b[49m\n\u001b[32m    957\u001b[39m \u001b[43m                \u001b[49m\u001b[33;43m\"\u001b[39;49m\u001b[33;43mtop_p\u001b[39;49m\u001b[33;43m\"\u001b[39;49m\u001b[43m:\u001b[49m\u001b[43m \u001b[49m\u001b[43mtop_p\u001b[49m\u001b[43m,\u001b[49m\n\u001b[32m    958\u001b[39m \u001b[43m                \u001b[49m\u001b[33;43m\"\u001b[39;49m\u001b[33;43muser\u001b[39;49m\u001b[33;43m\"\u001b[39;49m\u001b[43m:\u001b[49m\u001b[43m \u001b[49m\u001b[43muser\u001b[49m\u001b[43m,\u001b[49m\n\u001b[32m    959\u001b[39m \u001b[43m                \u001b[49m\u001b[33;43m\"\u001b[39;49m\u001b[33;43mweb_search_options\u001b[39;49m\u001b[33;43m\"\u001b[39;49m\u001b[43m:\u001b[49m\u001b[43m \u001b[49m\u001b[43mweb_search_options\u001b[49m\u001b[43m,\u001b[49m\n\u001b[32m    960\u001b[39m \u001b[43m            \u001b[49m\u001b[43m}\u001b[49m\u001b[43m,\u001b[49m\n\u001b[32m    961\u001b[39m \u001b[43m            \u001b[49m\u001b[43mcompletion_create_params\u001b[49m\u001b[43m.\u001b[49m\u001b[43mCompletionCreateParamsStreaming\u001b[49m\n\u001b[32m    962\u001b[39m \u001b[43m            \u001b[49m\u001b[38;5;28;43;01mif\u001b[39;49;00m\u001b[43m \u001b[49m\u001b[43mstream\u001b[49m\n\u001b[32m    963\u001b[39m \u001b[43m            \u001b[49m\u001b[38;5;28;43;01melse\u001b[39;49;00m\u001b[43m \u001b[49m\u001b[43mcompletion_create_params\u001b[49m\u001b[43m.\u001b[49m\u001b[43mCompletionCreateParamsNonStreaming\u001b[49m\u001b[43m,\u001b[49m\n\u001b[32m    964\u001b[39m \u001b[43m        \u001b[49m\u001b[43m)\u001b[49m\u001b[43m,\u001b[49m\n\u001b[32m    965\u001b[39m \u001b[43m        \u001b[49m\u001b[43moptions\u001b[49m\u001b[43m=\u001b[49m\u001b[43mmake_request_options\u001b[49m\u001b[43m(\u001b[49m\n\u001b[32m    966\u001b[39m \u001b[43m            \u001b[49m\u001b[43mextra_headers\u001b[49m\u001b[43m=\u001b[49m\u001b[43mextra_headers\u001b[49m\u001b[43m,\u001b[49m\u001b[43m \u001b[49m\u001b[43mextra_query\u001b[49m\u001b[43m=\u001b[49m\u001b[43mextra_query\u001b[49m\u001b[43m,\u001b[49m\u001b[43m \u001b[49m\u001b[43mextra_body\u001b[49m\u001b[43m=\u001b[49m\u001b[43mextra_body\u001b[49m\u001b[43m,\u001b[49m\u001b[43m \u001b[49m\u001b[43mtimeout\u001b[49m\u001b[43m=\u001b[49m\u001b[43mtimeout\u001b[49m\n\u001b[32m    967\u001b[39m \u001b[43m        \u001b[49m\u001b[43m)\u001b[49m\u001b[43m,\u001b[49m\n\u001b[32m    968\u001b[39m \u001b[43m        \u001b[49m\u001b[43mcast_to\u001b[49m\u001b[43m=\u001b[49m\u001b[43mChatCompletion\u001b[49m\u001b[43m,\u001b[49m\n\u001b[32m    969\u001b[39m \u001b[43m        \u001b[49m\u001b[43mstream\u001b[49m\u001b[43m=\u001b[49m\u001b[43mstream\u001b[49m\u001b[43m \u001b[49m\u001b[38;5;129;43;01mor\u001b[39;49;00m\u001b[43m \u001b[49m\u001b[38;5;28;43;01mFalse\u001b[39;49;00m\u001b[43m,\u001b[49m\n\u001b[32m    970\u001b[39m \u001b[43m        \u001b[49m\u001b[43mstream_cls\u001b[49m\u001b[43m=\u001b[49m\u001b[43mStream\u001b[49m\u001b[43m[\u001b[49m\u001b[43mChatCompletionChunk\u001b[49m\u001b[43m]\u001b[49m\u001b[43m,\u001b[49m\n\u001b[32m    971\u001b[39m \u001b[43m    \u001b[49m\u001b[43m)\u001b[49m\n",
      "\u001b[36mFile \u001b[39m\u001b[32m~/udemy/agents/.venv/lib/python3.12/site-packages/openai/_base_client.py:1249\u001b[39m, in \u001b[36mSyncAPIClient.post\u001b[39m\u001b[34m(self, path, cast_to, body, options, files, stream, stream_cls)\u001b[39m\n\u001b[32m   1235\u001b[39m \u001b[38;5;28;01mdef\u001b[39;00m\u001b[38;5;250m \u001b[39m\u001b[34mpost\u001b[39m(\n\u001b[32m   1236\u001b[39m     \u001b[38;5;28mself\u001b[39m,\n\u001b[32m   1237\u001b[39m     path: \u001b[38;5;28mstr\u001b[39m,\n\u001b[32m   (...)\u001b[39m\u001b[32m   1244\u001b[39m     stream_cls: \u001b[38;5;28mtype\u001b[39m[_StreamT] | \u001b[38;5;28;01mNone\u001b[39;00m = \u001b[38;5;28;01mNone\u001b[39;00m,\n\u001b[32m   1245\u001b[39m ) -> ResponseT | _StreamT:\n\u001b[32m   1246\u001b[39m     opts = FinalRequestOptions.construct(\n\u001b[32m   1247\u001b[39m         method=\u001b[33m\"\u001b[39m\u001b[33mpost\u001b[39m\u001b[33m\"\u001b[39m, url=path, json_data=body, files=to_httpx_files(files), **options\n\u001b[32m   1248\u001b[39m     )\n\u001b[32m-> \u001b[39m\u001b[32m1249\u001b[39m     \u001b[38;5;28;01mreturn\u001b[39;00m cast(ResponseT, \u001b[38;5;28;43mself\u001b[39;49m\u001b[43m.\u001b[49m\u001b[43mrequest\u001b[49m\u001b[43m(\u001b[49m\u001b[43mcast_to\u001b[49m\u001b[43m,\u001b[49m\u001b[43m \u001b[49m\u001b[43mopts\u001b[49m\u001b[43m,\u001b[49m\u001b[43m \u001b[49m\u001b[43mstream\u001b[49m\u001b[43m=\u001b[49m\u001b[43mstream\u001b[49m\u001b[43m,\u001b[49m\u001b[43m \u001b[49m\u001b[43mstream_cls\u001b[49m\u001b[43m=\u001b[49m\u001b[43mstream_cls\u001b[49m\u001b[43m)\u001b[49m)\n",
      "\u001b[36mFile \u001b[39m\u001b[32m~/udemy/agents/.venv/lib/python3.12/site-packages/openai/_base_client.py:1037\u001b[39m, in \u001b[36mSyncAPIClient.request\u001b[39m\u001b[34m(self, cast_to, options, stream, stream_cls)\u001b[39m\n\u001b[32m   1034\u001b[39m             err.response.read()\n\u001b[32m   1036\u001b[39m         log.debug(\u001b[33m\"\u001b[39m\u001b[33mRe-raising status error\u001b[39m\u001b[33m\"\u001b[39m)\n\u001b[32m-> \u001b[39m\u001b[32m1037\u001b[39m         \u001b[38;5;28;01mraise\u001b[39;00m \u001b[38;5;28mself\u001b[39m._make_status_error_from_response(err.response) \u001b[38;5;28;01mfrom\u001b[39;00m\u001b[38;5;250m \u001b[39m\u001b[38;5;28;01mNone\u001b[39;00m\n\u001b[32m   1039\u001b[39m     \u001b[38;5;28;01mbreak\u001b[39;00m\n\u001b[32m   1041\u001b[39m \u001b[38;5;28;01massert\u001b[39;00m response \u001b[38;5;129;01mis\u001b[39;00m \u001b[38;5;129;01mnot\u001b[39;00m \u001b[38;5;28;01mNone\u001b[39;00m, \u001b[33m\"\u001b[39m\u001b[33mcould not resolve response (should never happen)\u001b[39m\u001b[33m\"\u001b[39m\n",
      "\u001b[31mAuthenticationError\u001b[39m: Error code: 401 - {'error': {'message': 'Incorrect API key provided: sk-PHNV3***************************************R1mX. You can find your API key at https://platform.openai.com/account/api-keys.', 'type': 'invalid_request_error', 'param': None, 'code': 'invalid_api_key'}}"
     ]
    }
   ],
   "source": [
    "# Judgement time!\n",
    "\n",
    "openai = OpenAI()\n",
    "response = openai.chat.completions.create(\n",
    "    model=\"o3-mini\",\n",
    "    messages=judge_messages,\n",
    ")\n",
    "results = response.choices[0].message.content\n",
    "print(results)\n"
   ]
  },
  {
   "cell_type": "code",
   "execution_count": null,
   "metadata": {},
   "outputs": [],
   "source": [
    "# OK let's turn this into results!\n",
    "\n",
    "results_dict = json.loads(results)\n",
    "ranks = results_dict[\"results\"]\n",
    "for index, result in enumerate(ranks):\n",
    "    competitor = competitors[int(result)-1]\n",
    "    print(f\"Rank {index+1}: {competitor}\")"
   ]
  },
  {
   "cell_type": "markdown",
   "metadata": {},
   "source": [
    "<table style=\"margin: 0; text-align: left; width:100%\">\n",
    "    <tr>\n",
    "        <td style=\"width: 150px; height: 150px; vertical-align: middle;\">\n",
    "            <img src=\"../assets/exercise.png\" width=\"150\" height=\"150\" style=\"display: block;\" />\n",
    "        </td>\n",
    "        <td>\n",
    "            <h2 style=\"color:#ff7800;\">Exercise</h2>\n",
    "            <span style=\"color:#ff7800;\">Which pattern(s) did this use? Try updating this to add another Agentic design pattern.\n",
    "            </span>\n",
    "        </td>\n",
    "    </tr>\n",
    "</table>"
   ]
  },
  {
   "cell_type": "markdown",
   "metadata": {},
   "source": [
    "<table style=\"margin: 0; text-align: left; width:100%\">\n",
    "    <tr>\n",
    "        <td style=\"width: 150px; height: 150px; vertical-align: middle;\">\n",
    "            <img src=\"../assets/business.png\" width=\"150\" height=\"150\" style=\"display: block;\" />\n",
    "        </td>\n",
    "        <td>\n",
    "            <h2 style=\"color:#00bfff;\">Commercial implications</h2>\n",
    "            <span style=\"color:#00bfff;\">These kinds of patterns - to send a task to multiple models, and evaluate results,\n",
    "            are common where you need to improve the quality of your LLM response. This approach can be universally applied\n",
    "            to business projects where accuracy is critical.\n",
    "            </span>\n",
    "        </td>\n",
    "    </tr>\n",
    "</table>"
   ]
  }
 ],
 "metadata": {
  "kernelspec": {
   "display_name": ".venv",
   "language": "python",
   "name": "python3"
  },
  "language_info": {
   "codemirror_mode": {
    "name": "ipython",
    "version": 3
   },
   "file_extension": ".py",
   "mimetype": "text/x-python",
   "name": "python",
   "nbconvert_exporter": "python",
   "pygments_lexer": "ipython3",
   "version": "3.12.4"
  }
 },
 "nbformat": 4,
 "nbformat_minor": 2
}
